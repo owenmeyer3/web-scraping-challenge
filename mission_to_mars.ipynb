{
 "metadata": {
  "language_info": {
   "codemirror_mode": {
    "name": "ipython",
    "version": 3
   },
   "file_extension": ".py",
   "mimetype": "text/x-python",
   "name": "python",
   "nbconvert_exporter": "python",
   "pygments_lexer": "ipython3",
   "version": "3.8.5-final"
  },
  "orig_nbformat": 2,
  "kernelspec": {
   "name": "python3",
   "display_name": "Python 3",
   "language": "python"
  }
 },
 "nbformat": 4,
 "nbformat_minor": 2,
 "cells": [
  {
   "cell_type": "code",
   "execution_count": 3,
   "metadata": {},
   "outputs": [],
   "source": [
    "from bs4 import BeautifulSoup\n",
    "from requests import get\n",
    "from splinter import Browser\n",
    "import pandas as pd"
   ]
  },
  {
   "cell_type": "code",
   "execution_count": 4,
   "metadata": {},
   "outputs": [],
   "source": [
    "# Setup splinter\n",
    "executable_path = {'executable_path' : 'C:/chromedriver.exe'}\n",
    "browser = Browser('chrome', **executable_path, headless = False)"
   ]
  },
  {
   "cell_type": "code",
   "execution_count": 6,
   "metadata": {
    "tags": []
   },
   "outputs": [
    {
     "output_type": "stream",
     "name": "stdout",
     "text": [
      "5 Hidden Gems Are Riding Aboard NASA's Perseverance Rover\nThe symbols, mottos, and small objects added to the agency's newest Mars rover serve a variety of purposes, from functional to decorative.\n"
     ]
    }
   ],
   "source": [
    "### Mars News\n",
    "# Scrape the NASA Mars News Site and collect the latest News Title and Paragraph Text. Assign the text to variables that you can reference later.\n",
    "newsURL = 'https://mars.nasa.gov/news/?page=0&per_page=40&order=publish_date+desc%2Ccreated_at+desc&search=&category=19%2C165%2C184%2C204&blank_scope=Latest'\n",
    "\n",
    "# Load page into browser\n",
    "browser.visit(newsURL)\n",
    "# Find tag for first news headline\n",
    "if browser.is_element_present_by_css('div[class=\"list_text\"]', wait_time=5):\n",
    "    firstSlide = browser.find_by_css('div[class=\"list_text\"]')[0]\n",
    "    # Find Title and paragraph of headline\n",
    "    news_title = firstSlide.find_by_css('div[class=\"content_title\"]').text\n",
    "    news_p = firstSlide.find_by_css('div[class=\"article_teaser_body\"]').text\n",
    "else:\n",
    "    print('Page timed out:' + newsURL)\n",
    "print(news_title)\n",
    "print(news_p)"
   ]
  },
  {
   "cell_type": "code",
   "execution_count": 88,
   "metadata": {},
   "outputs": [
    {
     "output_type": "stream",
     "name": "stdout",
     "text": [
      "https://www.jpl.nasa.gov/spaceimages/images/largesize/PIA18429_hires.jpg\n"
     ]
    }
   ],
   "source": [
    "## JPL Mars Space Images - Featured Image\n",
    "# Use splinter to navigate the site and find the image url for the current Featured Mars Image and assign the url string to a variable called featured_image_url.\n",
    "featureURL = 'https://www.jpl.nasa.gov/spaceimages/?search=&category=Mars'\n",
    "\n",
    "# Load page into browser\n",
    "browser.visit(featureURL)\n",
    "if browser.is_element_present_by_css('a[class=\"button fancybox\"]', wait_time=5):\n",
    "    # Find full image button tag for featured image\n",
    "    full_image_button_tag = browser.find_by_css('a[class=\"button fancybox\"]')[0]\n",
    "    full_image_button_tag.click()\n",
    "    if browser.is_element_present_by_css('div[class=\"addthis_toolbox addthis_default_style\"]', wait_time=5):\n",
    "        # Find more info button tag for featured image\n",
    "        moreInfoButtonTag = browser.find_by_css('div[class=\"buttons\"] a[class=\"button\"]')[0]\n",
    "        browser.visit(moreInfoButtonTag['href'])\n",
    "        if browser.is_element_present_by_css('figure[class=\"lede\"]', wait_time=5):\n",
    "            # Find image url for featured image\n",
    "            featured_image_tag = browser.find_by_css('img[class=\"main_image\"]')[0]\n",
    "            featured_image_url = featured_image_tag['src']\n",
    "else:\n",
    "    print('Page timed out:' + featureURL)\n",
    "print(featured_image_url)"
   ]
  },
  {
   "cell_type": "code",
   "execution_count": 9,
   "metadata": {},
   "outputs": [
    {
     "output_type": "stream",
     "name": "stdout",
     "text": [
      "<table border=\"1\" class=\"dataframe\">\n  <thead>\n    <tr style=\"text-align: right;\">\n      <th></th>\n      <th>unit</th>\n      <th>value</th>\n    </tr>\n  </thead>\n  <tbody>\n    <tr>\n      <th>0</th>\n      <td>Equatorial Diameter:</td>\n      <td>6,792 km</td>\n    </tr>\n    <tr>\n      <th>1</th>\n      <td>Polar Diameter:</td>\n      <td>6,752 km</td>\n    </tr>\n    <tr>\n      <th>2</th>\n      <td>Mass:</td>\n      <td>6.39 × 10^23 kg (0.11 Earths)</td>\n    </tr>\n    <tr>\n      <th>3</th>\n      <td>Moons:</td>\n      <td>2 (Phobos &amp; Deimos)</td>\n    </tr>\n    <tr>\n      <th>4</th>\n      <td>Orbit Distance:</td>\n      <td>227,943,824 km (1.38 AU)</td>\n    </tr>\n    <tr>\n      <th>5</th>\n      <td>Orbit Period:</td>\n      <td>687 days (1.9 years)</td>\n    </tr>\n    <tr>\n      <th>6</th>\n      <td>Surface Temperature:</td>\n      <td>-87 to -5 °C</td>\n    </tr>\n    <tr>\n      <th>7</th>\n      <td>First Record:</td>\n      <td>2nd millennium BC</td>\n    </tr>\n    <tr>\n      <th>8</th>\n      <td>Recorded By:</td>\n      <td>Egyptian astronomers</td>\n    </tr>\n  </tbody>\n</table>\n"
     ]
    }
   ],
   "source": [
    "## Mars Facts\n",
    "# Visit the Mars Facts webpage here and use Pandas to scrape the table containing facts about the planet including Diameter, Mass, etc.\n",
    "marsFactsURL = 'https://space-facts.com/mars/'\n",
    "browser.visit(marsFactsURL)\n",
    "\n",
    "if browser.is_element_present_by_css('tr[class=\"row-1\"]', wait_time=5):\n",
    "    marsFactsDF = pd.read_html(marsFactsURL)[0]\n",
    "    marsFactsDF = marsFactsDF.rename(columns = {0:'unit', 1:'value'})\n",
    "\n",
    "    marsEqDia = marsFactsDF[marsFactsDF['unit'] == 'Equatorial Diameter:']['value'].values[0]\n",
    "    marsPolDia = marsFactsDF[marsFactsDF['unit'] == 'Polar Diameter:']['value'].values[0]\n",
    "    marsMass = marsFactsDF[marsFactsDF['unit'] == 'Mass:']['value'].values[0]\n",
    "    marsMoons = marsFactsDF[marsFactsDF['unit'] == 'Moons:']['value'].values[0]\n",
    "    marsOrbDist = marsFactsDF[marsFactsDF['unit'] == 'Orbit Distance:']['value'].values[0]\n",
    "    marsOrbPer = marsFactsDF[marsFactsDF['unit'] == 'Orbit Period:']['value'].values[0]\n",
    "    marsSurfTemps = marsFactsDF[marsFactsDF['unit'] == 'Surface Temperature:']['value'].values[0]\n",
    "    marsFirstRecord = marsFactsDF[marsFactsDF['unit'] == 'First Record:']['value'].values[0]\n",
    "    marsRecBy = marsFactsDF[marsFactsDF['unit'] == 'Recorded By:']['value'].values[0]\n",
    "    scrape_results = ({\n",
    "        'marsEqDia':marsEqDia,\n",
    "        'marsPolDia':marsPolDia,\n",
    "        'marsMass':marsMass,\n",
    "        'marsMoons':marsMoons,\n",
    "        'marsOrbDist':marsOrbDist,\n",
    "        'marsOrbPer':marsOrbPer,\n",
    "        'marsSurfTemps':marsSurfTemps,\n",
    "        'marsFirstRecord':marsFirstRecord,\n",
    "        'marsRecBy':marsRecBy\n",
    "    })\n",
    "\n",
    "    # Use Pandas to convert the data to a HTML table string.\n",
    "    htmlTable = marsFactsDF\n",
    "    htmlTable = htmlTable.to_html()\n",
    "    print(htmlTable)\n",
    "else:\n",
    "    print('Page timed out:' + marsFactsURL)"
   ]
  },
  {
   "cell_type": "code",
   "execution_count": 8,
   "metadata": {},
   "outputs": [
    {
     "output_type": "stream",
     "name": "stdout",
     "text": [
      "{'Schiaparelli': 'https://astropedia.astrogeology.usgs.gov/download/Mars/Viking/schiaparelli_enhanced.tif/full.jpg', 'Syrtis Major': 'https://astropedia.astrogeology.usgs.gov/download/Mars/Viking/syrtis_major_enhanced.tif/full.jpg', 'Valles Marineris': 'https://astropedia.astrogeology.usgs.gov/download/Mars/Viking/valles_marineris_enhanced.tif/full.jpg', 'Cerberus': 'https://astropedia.astrogeology.usgs.gov/download/Mars/Viking/cerberus_enhanced.tif/full.jpg'}\n"
     ]
    }
   ],
   "source": [
    "## Mars Hemispheres\n",
    "\n",
    "# Visit the USGS Astrogeology site here to obtain high resolution images for each of Mar's hemispheres.\n",
    "hemsURL = 'https://astrogeology.usgs.gov/search/results?q=hemisphere+enhanced&k1=target&v1=Mars'\n",
    "browser.visit(hemsURL)\n",
    "# You will need to click each of the links to the hemispheres in order to find the image url to the full resolution image.\n",
    "if browser.is_element_present_by_css('div[class=\"item\"]', wait_time=5):\n",
    "    # Find small image anchor tags\n",
    "    smallImageAnchor = browser.find_by_css('div[class=\"item\"] a')\n",
    "\n",
    "    # Create list of links to full images\n",
    "    smallImageLinks = []\n",
    "    for a in smallImageAnchor:\n",
    "        smallImageLinks.append(a['href'])\n",
    "    smallImageLinks = list(set(smallImageLinks))\n",
    "\n",
    "    hemispheresLinks = {}\n",
    "    #loop through links to full images\n",
    "    for smallLink in smallImageLinks:\n",
    "        # browse to page with full image\n",
    "        browser.visit(smallLink)\n",
    "        # Find anchor tags in large image downloads container\n",
    "        if browser.is_element_present_by_css('div[class=\"downloads\"]', wait_time=5):\n",
    "            fullImageAnchor = browser.find_by_css('div[class=\"downloads\"] a')\n",
    "            title = browser.find_by_css('h2[class=\"title\"]').text\n",
    "            title = title.split(\" \")\n",
    "            titleMod = []\n",
    "            for word in title:\n",
    "                if word != \"Hemisphere\" and word != \"Enhanced\":\n",
    "                    titleMod.append(word)\n",
    "            titleMod = \" \".join(titleMod)\n",
    "            # Add all links in full image download container and append to array if extension is .jpg\n",
    "            if fullImageAnchor['href'][-4:] == \".jpg\":\n",
    "                hemispheresLinks.update({titleMod:fullImageAnchor['href']})\n",
    "        else:\n",
    "            print('Page timed out:' + smallLink)\n",
    "    print(hemispheresLinks)\n",
    "else:\n",
    "    print('Page timed out:' + hemsURL)\n",
    "        \n"
   ]
  },
  {
   "cell_type": "code",
   "execution_count": null,
   "metadata": {},
   "outputs": [],
   "source": []
  }
 ]
}