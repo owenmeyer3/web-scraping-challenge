{
 "metadata": {
  "language_info": {
   "codemirror_mode": {
    "name": "ipython",
    "version": 3
   },
   "file_extension": ".py",
   "mimetype": "text/x-python",
   "name": "python",
   "nbconvert_exporter": "python",
   "pygments_lexer": "ipython3",
   "version": "3.8.5-final"
  },
  "orig_nbformat": 2,
  "kernelspec": {
   "name": "python3",
   "display_name": "Python 3"
  }
 },
 "nbformat": 4,
 "nbformat_minor": 2,
 "cells": [
  {
   "cell_type": "code",
   "execution_count": 31,
   "metadata": {},
   "outputs": [],
   "source": [
    "from bs4 import BeautifulSoup\n",
    "from requests import get\n",
    "from splinter import Browser\n",
    "import pandas as pd"
   ]
  },
  {
   "cell_type": "code",
   "execution_count": 32,
   "metadata": {},
   "outputs": [],
   "source": [
    "# Setup splinter\n",
    "executable_path = {'executable_path' : 'C:/chromedriver.exe'}\n",
    "browser = Browser('chrome', **executable_path, headless = False)"
   ]
  },
  {
   "cell_type": "code",
   "execution_count": 33,
   "metadata": {
    "tags": []
   },
   "outputs": [
    {
     "output_type": "stream",
     "name": "stdout",
     "text": [
      "5 Hidden Gems Are Riding Aboard NASA's Perseverance Rover\nThe symbols, mottos, and small objects added to the agency's newest Mars rover serve a variety of purposes, from functional to decorative.\n"
     ]
    }
   ],
   "source": [
    "### Mars News\n",
    "# Scrape the NASA Mars News Site and collect the latest News Title and Paragraph Text. Assign the text to variables that you can reference later.\n",
    "newsURL = 'https://mars.nasa.gov/news/?page=0&per_page=40&order=publish_date+desc%2Ccreated_at+desc&search=&category=19%2C165%2C184%2C204&blank_scope=Latest'\n",
    "\n",
    "# Load page into browser\n",
    "browser.visit(newsURL)\n",
    "# Get Html code as BS object from browser\n",
    "newsObj = BeautifulSoup(browser.html, 'html.parser')\n",
    "# Find tag for first news headline\n",
    "if browser.is_element_present_by_tag('html', wait_time=5):\n",
    "    firstSlide = newsObj.find('li', class_='slide')\n",
    "    # Find Title and paragraph of headline\n",
    "    news_title = firstSlide.find('h3').text\n",
    "    news_p = firstSlide.find(class_='rollover_description_inner').text\n",
    "else:\n",
    "    print('Page timed out:' + newsURL)\n",
    "print(news_title)\n",
    "print(news_p)"
   ]
  },
  {
   "cell_type": "code",
   "execution_count": 34,
   "metadata": {},
   "outputs": [
    {
     "output_type": "stream",
     "name": "stdout",
     "text": [
      "/spaceimages/images/wallpaper/PIA17474-1920x1200.jpg\n"
     ]
    }
   ],
   "source": [
    "## JPL Mars Space Images - Featured Image\n",
    "# Use splinter to navigate the site and find the image url for the current Featured Mars Image and assign the url string to a variable called featured_image_url.\n",
    "featureURL = 'https://www.jpl.nasa.gov/spaceimages/?search=&category=Mars'\n",
    "\n",
    "# Load page into browser\n",
    "browser.visit(featureURL)\n",
    "if browser.is_element_present_by_tag('html', wait_time=5):\n",
    "    # Find article tag for featured image\n",
    "    featured_image_tag = browser.find_by_css('div[class=\"carousel_items\"] article')\n",
    "    # Take style attribute, split string by quotes and take the url from index 1\n",
    "    featured_image_url = featured_image_tag['style'].split('\"')[1] \n",
    "else:\n",
    "    print('Page timed out:' + featureURL)\n",
    "print(featured_image_url)"
   ]
  },
  {
   "cell_type": "code",
   "execution_count": 35,
   "metadata": {},
   "outputs": [
    {
     "output_type": "stream",
     "name": "stdout",
     "text": [
      "<table border=\"1\" class=\"dataframe\">\n  <thead>\n    <tr style=\"text-align: right;\">\n      <th></th>\n      <th>unit</th>\n      <th>value</th>\n    </tr>\n  </thead>\n  <tbody>\n    <tr>\n      <th>0</th>\n      <td>Equatorial Diameter:</td>\n      <td>6,792 km</td>\n    </tr>\n    <tr>\n      <th>1</th>\n      <td>Polar Diameter:</td>\n      <td>6,752 km</td>\n    </tr>\n    <tr>\n      <th>2</th>\n      <td>Mass:</td>\n      <td>6.39 × 10^23 kg (0.11 Earths)</td>\n    </tr>\n    <tr>\n      <th>3</th>\n      <td>Moons:</td>\n      <td>2 (Phobos &amp; Deimos)</td>\n    </tr>\n    <tr>\n      <th>4</th>\n      <td>Orbit Distance:</td>\n      <td>227,943,824 km (1.38 AU)</td>\n    </tr>\n    <tr>\n      <th>5</th>\n      <td>Orbit Period:</td>\n      <td>687 days (1.9 years)</td>\n    </tr>\n    <tr>\n      <th>6</th>\n      <td>Surface Temperature:</td>\n      <td>-87 to -5 °C</td>\n    </tr>\n    <tr>\n      <th>7</th>\n      <td>First Record:</td>\n      <td>2nd millennium BC</td>\n    </tr>\n    <tr>\n      <th>8</th>\n      <td>Recorded By:</td>\n      <td>Egyptian astronomers</td>\n    </tr>\n  </tbody>\n</table>\n"
     ]
    }
   ],
   "source": [
    "## Mars Facts\n",
    "# Visit the Mars Facts webpage here and use Pandas to scrape the table containing facts about the planet including Diameter, Mass, etc.\n",
    "marsFactsURL = 'https://space-facts.com/mars/'\n",
    "\n",
    "if browser.is_element_present_by_tag('html', wait_time=5):\n",
    "    marsFactsDF = pd.read_html(marsFactsURL)[0]\n",
    "    marsFactsDF = marsFactsDF.rename(columns = {0:'unit', 1:'value'})\n",
    "\n",
    "    marsEqDia = marsFactsDF[marsFactsDF['unit'] == 'Equatorial Diameter:']['value'].values[0]\n",
    "    marsPolDia = marsFactsDF[marsFactsDF['unit'] == 'Polar Diameter:']['value'].values[0]\n",
    "    marsMass = marsFactsDF[marsFactsDF['unit'] == 'Mass:']['value'].values[0]\n",
    "    marsMoons = marsFactsDF[marsFactsDF['unit'] == 'Moons:']['value'].values[0]\n",
    "    marsOrbDist = marsFactsDF[marsFactsDF['unit'] == 'Orbit Distance:']['value'].values[0]\n",
    "    marsOrbPer = marsFactsDF[marsFactsDF['unit'] == 'Orbit Period:']['value'].values[0]\n",
    "    marsSurfTemps = marsFactsDF[marsFactsDF['unit'] == 'Surface Temperature:']['value'].values[0]\n",
    "    marsFirstRecord = marsFactsDF[marsFactsDF['unit'] == 'First Record:']['value'].values[0]\n",
    "    marsRecBy = marsFactsDF[marsFactsDF['unit'] == 'Recorded By:']['value'].values[0]\n",
    "    scrape_results.update({\n",
    "        'marsEqDia':marsEqDia,\n",
    "        'marsPolDia':marsPolDia,\n",
    "        'marsMass':marsMass,\n",
    "        'marsMoons':marsMoons,\n",
    "        'marsOrbDist':marsOrbDist,\n",
    "        'marsOrbPer':marsOrbPer,\n",
    "        'marsSurfTemps':marsSurfTemps,\n",
    "        'marsFirstRecord':marsFirstRecord,\n",
    "        'marsRecBy':marsRecBy\n",
    "    })\n",
    "\n",
    "    # Use Pandas to convert the data to a HTML table string.\n",
    "    htmlTable = marsFactsDF.to_html()\n",
    "    print(htmlTable)\n",
    "else:\n",
    "    print('Page timed out:' + marsFactsURL)"
   ]
  },
  {
   "cell_type": "code",
   "execution_count": null,
   "metadata": {},
   "outputs": [],
   "source": [
    "## Mars Hemispheres\n",
    "\n",
    "# Visit the USGS Astrogeology site here to obtain high resolution images for each of Mar's hemispheres.\n",
    "hemsURL = 'https://astrogeology.usgs.gov/search/results?q=hemisphere+enhanced&k1=target&v1=Mars'\n",
    "# You will need to click each of the links to the hemispheres in order to find the image url to the full resolution image.\n",
    "------------- Splinter click? or manual click? --------------------\n",
    "# Save both the image url string for the full resolution hemisphere image, and the Hemisphere title containing the hemisphere name. Use a Python dictionary to store the data using the keys img_url and title.\n",
    "\n",
    "# Append the dictionary with the image url string and the hemisphere title to a list. This list will contain one dictionary for each hemisphere.\n",
    "\n",
    "browser.visit(hemsURL)"
   ]
  }
 ]
}